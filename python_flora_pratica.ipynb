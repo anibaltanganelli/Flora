{
  "nbformat": 4,
  "nbformat_minor": 0,
  "metadata": {
    "colab": {
      "provenance": [],
      "mount_file_id": "1h1ahYuS9SGX_tlMbxmljLFouDmzMenyI",
      "authorship_tag": "ABX9TyNyENaZPlL10Qm77DToXTjq",
      "include_colab_link": true
    },
    "kernelspec": {
      "name": "python3",
      "display_name": "Python 3"
    },
    "language_info": {
      "name": "python"
    }
  },
  "cells": [
    {
      "cell_type": "markdown",
      "metadata": {
        "id": "view-in-github",
        "colab_type": "text"
      },
      "source": [
        "<a href=\"https://colab.research.google.com/github/anibaltanganelli/nova_pratica_flora/blob/main/python_flora_pratica.ipynb\" target=\"_parent\"><img src=\"https://colab.research.google.com/assets/colab-badge.svg\" alt=\"Open In Colab\"/></a>"
      ]
    },
    {
      "cell_type": "markdown",
      "source": [
        "Exploração de Dados\n",
        "Apresente as consultas SQL que você usou para explorar os dados.\n",
        "Mostre os resultados dessas consultas e explique o que elas revelam sobre os dados.\n"
      ],
      "metadata": {
        "id": "vGKwHpvpR0lQ"
      }
    },
    {
      "cell_type": "markdown",
      "source": [
        "#Exploração dos Dados\n"
      ],
      "metadata": {
        "id": "g9MOOGsk2aJq"
      }
    },
    {
      "cell_type": "code",
      "source": [
        "#Distribuição de dados:\n",
        "pedidos['valor_total'].describe()"
      ],
      "metadata": {
        "id": "9tAsqB_HCav_"
      },
      "execution_count": null,
      "outputs": []
    },
    {
      "cell_type": "code",
      "source": [
        "pedidos['quantidade'].describe()"
      ],
      "metadata": {
        "id": "RLQxVr2qC4gi"
      },
      "execution_count": null,
      "outputs": []
    },
    {
      "cell_type": "code",
      "source": [
        "pedidos['forma_pagamento'].describe()"
      ],
      "metadata": {
        "id": "twtrfCbIDf8N"
      },
      "execution_count": null,
      "outputs": []
    },
    {
      "cell_type": "code",
      "source": [
        "produtos['preco_produto'].describe()"
      ],
      "metadata": {
        "id": "aRCGnr7WDtN2"
      },
      "execution_count": null,
      "outputs": []
    },
    {
      "cell_type": "code",
      "source": [
        "pagamentos['status'].describe()"
      ],
      "metadata": {
        "id": "0fVc4NkDEURS"
      },
      "execution_count": null,
      "outputs": []
    },
    {
      "cell_type": "code",
      "source": [
        "pagamentos['forma_pagamento'].describe()"
      ],
      "metadata": {
        "id": "OalF3gP3El_F"
      },
      "execution_count": null,
      "outputs": []
    },
    {
      "cell_type": "code",
      "source": [
        "clientes['sexo'].describe()"
      ],
      "metadata": {
        "id": "atqjEXfpEt8x"
      },
      "execution_count": null,
      "outputs": []
    },
    {
      "cell_type": "code",
      "source": [
        "clientes['cidade'].describe()"
      ],
      "metadata": {
        "id": "S-T7kuabE1wH"
      },
      "execution_count": null,
      "outputs": []
    },
    {
      "cell_type": "code",
      "source": [
        "clientes['empreendimento'].describe()"
      ],
      "metadata": {
        "id": "bhMyEN3kE7mz"
      },
      "execution_count": null,
      "outputs": []
    },
    {
      "cell_type": "code",
      "source": [
        "#correlação\n",
        "\n",
        "pedidos_produtos = pd.merge(pedidos, produtos, on='id_produto') #mesclando a tabela pedido com a produtos para avaliar as correlações possíveis\n",
        "\n",
        "pedidos_produtos.head(1)"
      ],
      "metadata": {
        "id": "bYxEcgQCFsCs"
      },
      "execution_count": null,
      "outputs": []
    },
    {
      "cell_type": "code",
      "source": [
        "correlacao_preco_quantidade = pedidos_produtos['preco_produto'].corr(pedidos_produtos['quantidade'])\n",
        "correlacao_preco_quantidade\n",
        "\n",
        "\n",
        "#'''Note que a correlação varia de -1 a 1. Um valor próximo de 1 indica uma forte correlação positiva (quando o preço aumenta, a quantidade vendida também aumenta),\n",
        "# um valor próximo de -1 indica uma forte correlação negativa (quando o preço aumenta, a quantidade vendida diminui) e um valor próximo de 0 indica que não há correlação.'''"
      ],
      "metadata": {
        "id": "4oRFpMVLHncA"
      },
      "execution_count": null,
      "outputs": []
    },
    {
      "cell_type": "code",
      "source": [
        "pedidos_produtos.head(1)\n"
      ],
      "metadata": {
        "id": "XGQjYH9NHlVQ"
      },
      "execution_count": null,
      "outputs": []
    },
    {
      "cell_type": "code",
      "source": [
        "pedidos_produtos['data_pedido'] = pd.to_datetime(pedidos_produtos['data_pedido'])\n",
        "pedidos_produtos['month'] = pedidos_produtos['data_pedido'].dt.month\n",
        "correlacao_mes_quantidade = pedidos_produtos['month'].corr(pedidos_produtos['quantidade'])\n",
        "correlacao_mes_quantidade"
      ],
      "metadata": {
        "id": "dMfjfV2pIkxq"
      },
      "execution_count": null,
      "outputs": []
    },
    {
      "cell_type": "code",
      "source": [
        "## Agrupamento\n",
        "\n",
        "vendas_produto_valor = pedidos_produtos.groupby('nome_produto')['valor_total'].sum() #valor total por produto\n",
        "vendas_produto_valor"
      ],
      "metadata": {
        "id": "AI3cJGeHHz_6"
      },
      "execution_count": null,
      "outputs": []
    },
    {
      "cell_type": "code",
      "source": [
        "vendas_produto_qtd = pedidos_produtos.groupby('nome_produto')['quantidade'].sum() #quantidade total por produto\n",
        "vendas_produto_qtd"
      ],
      "metadata": {
        "id": "Gm67kBmFQbiJ"
      },
      "execution_count": null,
      "outputs": []
    },
    {
      "cell_type": "code",
      "source": [
        "fornecedot_valor = pedidos_produtos.groupby('id_fornecedor')[ 'valor_total'].sum() #valor total por fornecedor\n",
        "fornecedot_valor"
      ],
      "metadata": {
        "id": "ljx33wInSllP"
      },
      "execution_count": null,
      "outputs": []
    },
    {
      "cell_type": "code",
      "source": [
        "fornecedot_qtd = pedidos_produtos.groupby('id_fornecedor')['quantidade'].sum() #quantidade total por fornecedor\n",
        "fornecedot_qtd"
      ],
      "metadata": {
        "id": "SpVsPz9yQznN"
      },
      "execution_count": null,
      "outputs": []
    },
    {
      "cell_type": "code",
      "source": [
        "#médias\n",
        "custo_medio_un = produtos['custos'].mean()\n",
        "preco_medio_un = produtos['preco_produto'].mean()\n",
        "receita_media_cliente = pedidos['valor_total'].sum().mean()\n",
        "custo_medio_cliente = pedidos['quantidade'].sum() * custo_medio_un\n",
        "lucro_medio = (receita_media_cliente - custo_medio_cliente)\n",
        "\n",
        "\n",
        "print(f'O custo médio unitario é de R${custo_medio_un:.2f}, o preço médio unitário é de R${preco_medio_un:.2f} e o lucro médio unitário é de R${preco_medio_un - custo_medio_un:.2f}.\\n'\n",
        "      f'A receita média por cliente é de R${receita_media_cliente:.2f}, o custo médio da matéria prima por cliente é de R${custo_medio_cliente:.2f} e o lucro médio por cliente é de R${lucro_medio}.')"
      ],
      "metadata": {
        "id": "NeKuaoC32j1V"
      },
      "execution_count": null,
      "outputs": []
    },
    {
      "cell_type": "code",
      "source": [
        "##mínimas\n",
        "\n",
        "preco_prod_un_min = produtos['preco_produto'].min() ##produtos mais baratos\n",
        "nome_preco_min = produtos.loc[produtos['preco_produto'].idxmin()]['nome_produto']#localizando o nome do produto mais barato\n",
        "\n",
        "id_produto_min = pedidos.groupby('id_produto')['quantidade'].sum().idxmin() #encontrando o id do produto que tem a menor quantidade total vendida\n",
        "nome_prod_min = produtos.loc[produtos['id_produto'] == id_produto_min]['nome_produto'].values[0] #nome do produto menos vendido\n",
        "qtd_produto_min = pedidos.loc[pedidos['id_produto'] == id_produto_min]['quantidade'].sum() #quantidade do produto menos vendido\n",
        "\n",
        "id_cli_min_qtd = pedidos.groupby('id_cliente')['quantidade'].sum().idxmin() #localizando o id do cliente que menos compra\n",
        "nome_cli_min_qtd = clientes.loc[clientes['id_cliente'] == id_cli_min_qtd]['nome_cliente'].values[0] #nome do cliente que menos compra\n",
        "cli_min_qtd_prod = pedidos.loc[pedidos['id_cliente'] == id_cli_min_qtd]['quantidade'].sum() #somando a quantidade total comprada pelo cliente que menos compra\n",
        "cli_min_compra_total = pedidos.loc[pedidos['id_cliente'] == id_cli_min_qtd]['valor_total'].sum() #valor total gasto pelo cliente que menos unidades compra\n",
        "\n",
        "id_cli_min_valor = pedidos.groupby('id_cliente')['valor_total'].sum().idxmin() #id do cliente que menos gastou\n",
        "nome_cli_min_valor = clientes.loc[clientes['id_cliente'] == id_cli_min_valor]['nome_cliente'].values[0] #nome do cliente que menos gastou\n",
        "qtd_min_cli_valor = pedidos.loc[pedidos['id_cliente'] == id_cli_min_valor]['quantidade'].sum() #quantidade que ele comprou\n",
        "cli_min_valor = pedidos.loc[pedidos['id_cliente'] == id_cli_min_valor]['valor_total'].sum() #valor gasto pelo cliente que menos comprou\n",
        "\n",
        "\n",
        "\n",
        "print(f'O produto mais barato é {nome_preco_min}e o seu preço é de R${preco_prod_un_min}.\\n\\n'\n",
        "f'O produro menos vendido é {nome_prod_min}com {qtd_produto_min} unidades.\\n\\n'\n",
        "f'O cliente que comprou a menor quantidade é{nome_cli_min_qtd}, que comprou {cli_min_qtd_prod} unidades no valor total de R${cli_min_compra_total}.\\n\\n'\n",
        "f'O cliente que gastou o menor valor foi {nome_cli_min_valor}, que comprou {qtd_min_cli_valor} unidades no valor total de R${cli_min_valor}.')\n"
      ],
      "metadata": {
        "id": "EMJP5FnUUPBV"
      },
      "execution_count": null,
      "outputs": []
    },
    {
      "cell_type": "code",
      "source": [
        "##máximas\n",
        "\n",
        "preco_prod_un_max = produtos['preco_produto'].max() ##produto mais caro\n",
        "nome_preco_max = produtos.loc[produtos['preco_produto'].idxmax()]['nome_produto'] ##localizando o nome através do preço mais alto\n",
        "\n",
        "id_produto_max = pedidos.groupby('id_produto')['quantidade'].sum().idxmax()#encontrando o id do produto que mais vende\n",
        "nome_produto_max = produtos.loc[produtos['id_produto'] == id_produto_max]['nome_produto'].values[0] #localizando o produto que mais vende\n",
        "qtd_produto_max = pedidos.loc[pedidos['id_produto'] == id_produto_max]['quantidade'].sum()\n",
        "\n",
        "id_cli_max_qtd = pedidos.groupby('id_cliente')['quantidade'].sum().idxmax() ##localizando o id do cliente que compra a maior quantidade\n",
        "nome_cli_max_qtd = clientes.loc[clientes['id_cliente'] == id_cli_max_qtd]['nome_cliente'].values[0] #localizando o nome pelo id. obs. o resultado era um objeto e precisei corrigir\n",
        "cli_max_prod = pedidos.loc[pedidos['id_cliente'] == id_cli_max_qtd]['quantidade'].sum() #somando a quantidade total comprada pelo cliente que compra mais quantidade\n",
        "cli_max_compra_total = pedidos.loc[pedidos['id_cliente'] == id_cli_max_qtd]['valor_total'].sum() #somando valor total do cliente que compra mais unidades\n",
        "\n",
        "id_cli_max_valor = pedidos.groupby('id_cliente')['valor_total'].sum().idxmax() #localizando o id do cliente que mais gastou\n",
        "nome_cli_max_valor = clientes.loc[clientes['id_cliente'] == id_cli_max_valor]['nome_cliente'].values[0] #nome do cliente que mais gastou\n",
        "qtd_cli_max_valor = pedidos.loc[pedidos['id_cliente'] == id_cli_max_valor]['quantidade'].sum() #somando a quantidade total comprada pelo cliente que compra mais quantidade\n",
        "cli_max_valor_compra_total = pedidos.loc[pedidos['id_cliente'] == id_cli_max_valor]['valor_total'].sum() #somando valor total do cliente que compra mais unidades\n",
        "\n",
        "\n",
        "print(f'O produto mais caro é {nome_preco_max}e o seu preço é de R${preco_prod_un_max}.\\n\\n'\n",
        "f'O produro mais vendido é {nome_produto_max}com {qtd_produto_max} unidades vendidas.\\n\\n'\n",
        "f'O cliente que comprou a maior quantidade foi{nome_cli_max_qtd}, que comprou {cli_max_prod} unidades no valor total de R${cli_max_compra_total}.\\n\\n'\n",
        "f'O cliente que gastou o maior valor foi{nome_cli_max_valor}, que comprou {qtd_cli_max_valor} unidades no valor total de R${cli_max_valor_compra_total}.\\n\\n')"
      ],
      "metadata": {
        "id": "2HIio0XIznZd"
      },
      "execution_count": null,
      "outputs": []
    }
  ]
}