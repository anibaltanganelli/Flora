{
  "nbformat": 4,
  "nbformat_minor": 0,
  "metadata": {
    "colab": {
      "provenance": [],
      "mount_file_id": "1h1ahYuS9SGX_tlMbxmljLFouDmzMenyI",
      "authorship_tag": "ABX9TyPar1A1op/XBxNOPF0gdh0M",
      "include_colab_link": true
    },
    "kernelspec": {
      "name": "python3",
      "display_name": "Python 3"
    },
    "language_info": {
      "name": "python"
    }
  },
  "cells": [
    {
      "cell_type": "markdown",
      "metadata": {
        "id": "view-in-github",
        "colab_type": "text"
      },
      "source": [
        "<a href=\"https://colab.research.google.com/github/anibaltanganelli/nova_pratica_flora/blob/main/tratamento_flora_pratica.ipynb\" target=\"_parent\"><img src=\"https://colab.research.google.com/assets/colab-badge.svg\" alt=\"Open In Colab\"/></a>"
      ]
    },
    {
      "cell_type": "code",
      "execution_count": null,
      "metadata": {
        "id": "10NI_HypO_oc"
      },
      "outputs": [],
      "source": [
        "#importando bibliotecas para manipular dataframe\n",
        "import pandas as pd\n",
        "import numpy as np\n"
      ]
    },
    {
      "cell_type": "code",
      "source": [
        "# TRABALHANDO A TABELA PEDIDOS\n",
        "\n",
        "'''\n",
        "pedidos = pd.read_csv(\"/content/drive/MyDrive/Dados para estudo/Flora_pedidos.csv\") ##importando a planilha\n",
        "pedidos.head()\n",
        "'''\n",
        "\n",
        "# LIMPEZA DA TABELA PEDIDOS\n",
        "'''\n",
        "pedidos[\"id_pedido\"] = pedidos['id_pedido'].astype(str).str.replace(\"(\", \"\") #remover \"(\" da coluna id_pedido.\n",
        "pedidos[\"valor_total\"]= pedidos['valor_total'].astype(str).str.replace(\".\", \"\") #corrigindo o valor total que estava no formato x.xxx,xx\n",
        "pedidos[\"valor_total\"]= pedidos['valor_total'].astype(str).str.replace(\",00\", \"\")\n",
        "pedidos[\"data_entrega\"]= pedidos['data_entrega'].astype(str).str.replace(\")\", \"\")#alterando a data para o formato de data\n",
        "pedidos[\"data_entrega\"]= pedidos['data_entrega'].astype(str).str.replace(\",\", \"\")\n",
        "pedidos.head()\n",
        "'''\n",
        "# AJUSTE DOS TIPOS DE DADOS\n",
        "'''\n",
        "pedidos.info()\n",
        "pedidos['id_pedido'] = pd.to_numeric(pedidos['id_pedido']) #objeto para numérico\n",
        "pedidos['id_cliente'] = pd.to_numeric(pedidos['id_cliente']) #objeto para numérico\n",
        "pedidos['valor_total'] = pd.to_numeric(pedidos['valor_total']) #objeto para numérico\n",
        "pedidos['data_pedido'] = pd.to_datetime(pedidos['data_pedido']) #objeto para data\n",
        "pedidos['data_entrega'] = pd.to_datetime(pedidos['data_entrega']) #objeto para data\n",
        "pedidos.info()\n",
        "'''\n",
        "# CRIANDO UMA COLUNA COM DADOS ALEATÓRIOS DA FORMA DE PAGAMENTO PARA AMPLIAR ESTUDO\n",
        "'''\n",
        "# Primeiro é necessário criar uma variável com a lista de formas de pagamento quw será sorteada\n",
        "pagamentos_ = ['cartao', 'cartao_parcelado', 'pix', 'boleto']\n",
        "\n",
        "# criando uma variável que faz, utilizando o numpy, o sorteio com os dados da variável respeitando o número de linhas da tabela pedido.\n",
        "forma_pagamento = np.random.choice(pagamentos_, size=len(pedidos))\n",
        "\n",
        "# criando uma coluna com a lista sorteada. Adicionando ao DataFrame\n",
        "pedidos['forma_pagamento'] = forma_pagamento\n",
        "'''\n",
        "# BAIXANDO A PLANILHA PARA MANTER O PADRÃO\n",
        "'''pd.DataFrame(pedidos).to_csv('pedidos_pgt.csv', index=False')'''\n"
      ],
      "metadata": {
        "id": "M3K7Eq-SXAf7"
      },
      "execution_count": null,
      "outputs": []
    },
    {
      "cell_type": "code",
      "source": [
        "#TABELA PEDIDOS ATUALIZADA\n",
        "pedidos = pd.read_csv(\"/content/drive/MyDrive/Dados para estudo/pedidos_pgt.csv\")\n",
        "pedidos.head()"
      ],
      "metadata": {
        "id": "HiIsXRPWG_k1"
      },
      "execution_count": null,
      "outputs": []
    },
    {
      "cell_type": "code",
      "source": [
        "# CRIANDO UMA TABELA PAGAMENTOS (id_cliente, data de pagamento, valor total e forma de pagamento e status do pagamento)\n",
        "'''pagamentos = pedidos[[\"id_cliente\", \"data_pedido\", \"valor_total\", \"forma_pagamento\"]].copy() #utilizando informações da tabela pedidos'''\n",
        "\n",
        "# ADICIONANDO COLUNA STATUS. (cartão e pix sempre estarão pagos, laçamento aleatório em boleto).\n",
        "\n",
        "'''pagto_boleto = ['pago', 'em aberto']\n",
        "\n",
        "def status_pagamento (modo):\n",
        "  if modo == 'cartao':\n",
        "       return 'pago'\n",
        "  elif modo ==  'cartao_parcelado':\n",
        "       return 'pago'\n",
        "  elif modo == 'pix':\n",
        "        return 'pago'\n",
        "  elif modo == 'boleto':\n",
        "        return np.random.choice(pagto_boleto)\n",
        "  else:\n",
        "        return 'em aberto'\n",
        "'''\n",
        "#Inserindo na coluna status os dados da função\n",
        "'''pagamentos['status'] = pagamentos['forma_pagamento'].apply(status_pagamento)'''\n",
        "\n",
        "# BAIXANDOA PLANILHA PAGAMENTOS PARA MANTER O PADRÃO\n",
        "'''pd.DataFrame(pagamentos).to_csv(\"Flora_pagamentos.csv\")'''"
      ],
      "metadata": {
        "id": "RkDAIZCYXLAp"
      },
      "execution_count": null,
      "outputs": []
    },
    {
      "cell_type": "code",
      "source": [
        "#TABELA PAGAMENTOS\n",
        "pagamentos = pd.read_csv(\"/content/drive/MyDrive/Dados para estudo/Flora_pagamentos.csv\")\n",
        "pagamentos.head()"
      ],
      "metadata": {
        "id": "7HJ4qdHC1xSS"
      },
      "execution_count": null,
      "outputs": []
    },
    {
      "cell_type": "code",
      "source": [
        "# UPLOAD DE FORNECEDORES\n",
        "fornecedores = pd.read_csv(\"/content/drive/MyDrive/Dados para estudo/Flora_fornecedores.csv\")\n",
        "fornecedores.head()"
      ],
      "metadata": {
        "id": "7wyFQ5XsKTd4"
      },
      "execution_count": null,
      "outputs": []
    },
    {
      "cell_type": "code",
      "source": [
        "#CARREGANNDO TABELA PRODUTOS PARA INCREMENTAR E TRATAR DADOS\n",
        "'''\n",
        "produtos = pd.read_csv(\"/content/drive/MyDrive/Dados para estudo/Flora_produtos.csv\")\n",
        "produtos.head()\n",
        "'''\n",
        "# LIMPEZA DE DADOS\n",
        "\n",
        "'''\n",
        "produtos['preco_produto'] = produtos['preco_produto'].str.replace(\"R\", \"\")\n",
        "\n",
        "produtos['preco_produto'] = produtos['preco_produto'].str.replace(\"$\", \"\")\n",
        "\n",
        "'''\n",
        "#ADICIONANDO COLUNA CUSTO DO PRODUTO\n",
        "'''\n",
        "custo_pr = [ 3.12 , 4.32, 2.5, 4.56, 3.24, 4.21, 3.11]\n",
        "\n",
        "custo_produto = np.random.choice(custo_pr, len(produtos))\n",
        "\n",
        "produtos['custos'] = custo_produto\n",
        "\n",
        "produtos.head()\n",
        "'''\n",
        "#ALTERAÇÃO DOS DADOS\n",
        "\"\"\"\n",
        "produtos['preco_produto'] = pd.to_numeric(produtos['preco_produto']) #objeto para numérico\n",
        "\"\"\"\n",
        "#BAIXANDO PLANILHA PRODUTOS\n",
        "\"\"\"\n",
        "pd.DataFrame(produtos).to_csv(Flora_produtos.csv)\n",
        "\"\"\"\n",
        "\n",
        "# UPLOAD PRODUTOS\n",
        "produtos = pd.read_csv(\"/content/drive/MyDrive/Dados para estudo/Flora_produtos.csv\")\n",
        "produtos.head()"
      ],
      "metadata": {
        "id": "l0clvbvWK44M"
      },
      "execution_count": null,
      "outputs": []
    },
    {
      "cell_type": "code",
      "source": [
        "#SUBINDO TABELA CLIENTES\n",
        "\n",
        "clientes = pd.read_csv('/content/drive/MyDrive/Estudos_Dados_flora/Flora_clientes.csv')\n",
        "\n",
        "#ALTERANDO TIPO DE DADOS\n",
        "'''clientes['data_nascimento'] = pd.to_datetime(clientes['data_nascimento']) # alterando para data\n",
        "clientes['nome_cliente'] = clientes['nome_cliente'].astype(str)'''\n",
        "\n",
        "# ADICIONANDO UMA COLUNA COM O TIPO DE EMPREENDIMENTO\n",
        "'''tipo_empresa = ['floricultura', 'loja de presentes', 'autônomo', 'decoração', 'cerimonialista', 'buffet', 'salão de festas', 'supermercado', 'marketplace', 'igreja', 'outros']\n",
        "empreendimento = np.random.choice(tipo_empresa, size=len(clientes))\n",
        "clientes['empreendimento'] = empreendimento\n",
        "'''\n",
        "#BAIXANDO\n",
        "'''pd.DataFrame(clientes).to_csv(\"Flora_clientes.csv\")'''"
      ],
      "metadata": {
        "id": "RbrEt_AFOdhB"
      },
      "execution_count": null,
      "outputs": []
    }
  ]
}
